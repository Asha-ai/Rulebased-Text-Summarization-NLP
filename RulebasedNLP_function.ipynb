{
  "nbformat": 4,
  "nbformat_minor": 0,
  "metadata": {
    "colab": {
      "name": "RulebasedNLP_function.ipynb",
      "provenance": []
    },
    "kernelspec": {
      "name": "python3",
      "display_name": "Python 3"
    }
  },
  "cells": [
    {
      "cell_type": "code",
      "metadata": {
        "id": "BwlzKjl-t7Bm",
        "colab_type": "code",
        "colab": {}
      },
      "source": [
        "# Function for all text preprocessing"
      ],
      "execution_count": null,
      "outputs": []
    },
    {
      "cell_type": "code",
      "metadata": {
        "id": "vo25ITah4_7l",
        "colab_type": "code",
        "colab": {
          "base_uri": "https://localhost:8080/",
          "height": 85
        },
        "outputId": "06449862-463c-4846-94db-35679768b5da"
      },
      "source": [
        "\n",
        "import nltk\n",
        "nltk.download('punkt')\n",
        "import nltk\n",
        "nltk.download('stopwords')\n",
        "from nltk.tokenize import sent_tokenize,word_tokenize\n",
        "from nltk.corpus import stopwords\n",
        "from string import punctuation\n",
        "from nltk.probability import FreqDist\n",
        "from collections import defaultdict\n",
        "from heapq import nlargest\n"
      ],
      "execution_count": 39,
      "outputs": [
        {
          "output_type": "stream",
          "text": [
            "[nltk_data] Downloading package punkt to /root/nltk_data...\n",
            "[nltk_data]   Package punkt is already up-to-date!\n",
            "[nltk_data] Downloading package stopwords to /root/nltk_data...\n",
            "[nltk_data]   Package stopwords is already up-to-date!\n"
          ],
          "name": "stdout"
        }
      ]
    },
    {
      "cell_type": "code",
      "metadata": {
        "id": "D6mpwO9kt7E_",
        "colab_type": "code",
        "colab": {}
      },
      "source": [
        "def summarize(text, n):\n",
        "    sents = sent_tokenize(text)\n",
        "    \n",
        "    assert n <= len(sents)\n",
        "    word_sent = word_tokenize(text.lower())\n",
        "    _stopwords = set(stopwords.words('english') + list(punctuation))\n",
        "    \n",
        "    word_sent=[word for word in word_sent if word not in _stopwords]\n",
        "    freq = FreqDist(word_sent)\n",
        "    \n",
        "    \n",
        "    ranking = defaultdict(int)\n",
        "    \n",
        "    for i,sent in enumerate(sents):\n",
        "        for w in word_tokenize(sent.lower()):\n",
        "            if w in freq:\n",
        "                ranking[i] += freq[w]\n",
        "             \n",
        "        \n",
        "    sents_idx = nlargest(n, ranking, key=ranking.get)\n",
        "    return [sents[j] for j in sorted(sents_idx)]"
      ],
      "execution_count": 40,
      "outputs": []
    },
    {
      "cell_type": "code",
      "metadata": {
        "id": "wyvLlMYrt7L_",
        "colab_type": "code",
        "colab": {}
      },
      "source": [
        "text1 = '''\n",
        "Data generated from conversations, declarations or even tweets are examples of unstructured data. \n",
        "Unstructured data doesn’t fit neatly into the traditional row and column structure of relational \n",
        "databases, and represent the vast majority of data available in the actual world. It is messy\n",
        "and hard to manipulate. Nevertheless, thanks to the advances in disciplines like machine learning \n",
        "a big revolution is going on regarding this topic. Nowadays it is no longer about trying to interpret\n",
        "a text or speech based on its keywords (the old fashioned mechanical way), but about understanding \n",
        "the meaning behind those words (the cognitive way). This way it is possible to detect figures of\n",
        "speech like irony, or even perform sentiment analysis.'''"
      ],
      "execution_count": 44,
      "outputs": []
    },
    {
      "cell_type": "code",
      "metadata": {
        "id": "vLvhZrD3t7Pv",
        "colab_type": "code",
        "colab": {
          "base_uri": "https://localhost:8080/",
          "height": 54
        },
        "outputId": "41adc0c6-f9ec-461a-c4e4-5e006d9ac39a"
      },
      "source": [
        "s = summarize(text1,1)\n",
        "s"
      ],
      "execution_count": 47,
      "outputs": [
        {
          "output_type": "execute_result",
          "data": {
            "text/plain": [
              "['Unstructured data doesn’t fit neatly into the traditional row and column structure of relational \\ndatabases, and represent the vast majority of data available in the actual world.']"
            ]
          },
          "metadata": {
            "tags": []
          },
          "execution_count": 47
        }
      ]
    },
    {
      "cell_type": "code",
      "metadata": {
        "id": "9Z31PcMP5aLH",
        "colab_type": "code",
        "colab": {
          "base_uri": "https://localhost:8080/",
          "height": 52
        },
        "outputId": "28c809e2-9270-40cf-a907-b93409d3f1ab"
      },
      "source": [
        "s1 = [i.replace('\\n','') for i in s ]\n",
        "s1\n",
        "list(map(str.strip,s1))\n",
        "'_'.join(s1)"
      ],
      "execution_count": 48,
      "outputs": [
        {
          "output_type": "execute_result",
          "data": {
            "application/vnd.google.colaboratory.intrinsic+json": {
              "type": "string"
            },
            "text/plain": [
              "'Unstructured data doesn’t fit neatly into the traditional row and column structure of relational databases, and represent the vast majority of data available in the actual world.'"
            ]
          },
          "metadata": {
            "tags": []
          },
          "execution_count": 48
        }
      ]
    }
  ]
}